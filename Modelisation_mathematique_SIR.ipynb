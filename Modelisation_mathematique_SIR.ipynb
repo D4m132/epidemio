{
 "cells": [
  {
   "cell_type": "markdown",
   "metadata": {},
   "source": [
    "Tout d'abord l'importation des librairies utiles.\n",
    "\n",
    "Numpy pour l'intervalle de temps (linspace);\n",
    "\n",
    "Scipy pour faire les equations différentielles;\n",
    "\n",
    "Matplotlib pour faire le graphique;\n",
    "\n",
    "IPython pour inclure les formules."
   ]
  },
  {
   "cell_type": "code",
   "execution_count": 1,
   "metadata": {},
   "outputs": [],
   "source": [
    "import numpy as np\n",
    "from scipy.integrate import odeint\n",
    "import matplotlib.pyplot as plt\n",
    "from IPython.display import Latex"
   ]
  },
  {
   "cell_type": "markdown",
   "metadata": {},
   "source": [
    "Déterminons la population totale N, puis le nombre initial de personnes infectées ainsi que les guéries immunisées, respectivement I0 et R0. (Nous pouvons les modifier à souhait)"
   ]
  },
  {
   "cell_type": "code",
   "execution_count": 2,
   "metadata": {},
   "outputs": [],
   "source": [
    "N = 1000000\n",
    "I0, R0 = 1, 0"
   ]
  },
  {
   "cell_type": "markdown",
   "metadata": {},
   "source": [
    "Etablissons ensuite le taux de contagion β, le taux moyen de rétablissement γ. (Nous pouvons les modifier à souhait)\n",
    "\n",
    "S0 est le nombre de personnes initial qui n'est ni infécté ni guéri avec immunité, ils sont susceptibles d'être infectés."
   ]
  },
  {
   "cell_type": "code",
   "execution_count": 3,
   "metadata": {},
   "outputs": [],
   "source": [
    "beta, gamma = 3, 91./100\n",
    "S0 = N - I0 - R0"
   ]
  },
  {
   "cell_type": "markdown",
   "metadata": {},
   "source": [
    "Déterminons le nombre de jours que le modèle va simuler. (Nous pouvons le modifier à souhait)"
   ]
  },
  {
   "cell_type": "code",
   "execution_count": 4,
   "metadata": {},
   "outputs": [],
   "source": [
    "t = np.linspace(0, 100, 100)"
   ]
  },
  {
   "cell_type": "markdown",
   "metadata": {},
   "source": [
    "Voici les équations différentielles qui vont nous permettre de faire la modélisation nommée SIR.\n",
    "\n",
    "\\begin{align*}\n",
    "    \\frac{dS}{dt} &= -\\frac{\\beta SI}{N} \\\\\n",
    "    \\frac{dI}{dt} &= \\frac{\\beta SI}{N}-\\gamma I \\\\\n",
    "    \\frac{dR}{dt} &= \\gamma I \\\\\n",
    "\\end{align*}"
   ]
  },
  {
   "cell_type": "code",
   "execution_count": 5,
   "metadata": {},
   "outputs": [],
   "source": [
    "def deriv(y, t, N, beta, gamma):\n",
    "    S, I, R = y\n",
    "    dSdt = -beta * S * I / N\n",
    "    dIdt = beta * S * I / N - gamma * I\n",
    "    dRdt = gamma * I\n",
    "    return dSdt, dIdt, dRdt"
   ]
  },
  {
   "cell_type": "markdown",
   "metadata": {},
   "source": [
    "Entrons les conditions initiales à t=0 puis faisons calculer la simulation à l'ordinateur."
   ]
  },
  {
   "cell_type": "code",
   "execution_count": 6,
   "metadata": {},
   "outputs": [],
   "source": [
    "y0 = S0, I0, R0\n",
    "ret = odeint(deriv, y0, t, args=(N, beta, gamma))\n",
    "S, I, R = ret.T"
   ]
  },
  {
   "cell_type": "markdown",
   "metadata": {},
   "source": [
    "Enfin construisons le graphique avec les trois courbes S(t), I(t) et R(t)."
   ]
  },
  {
   "cell_type": "code",
   "execution_count": null,
   "metadata": {},
   "outputs": [],
   "source": [
    "fig = plt.figure(facecolor='w')\n",
    "ax = fig.add_subplot(111, facecolor='#dddddd', axisbelow=True)\n",
    "ax.plot(t, S/1000000, 'b', alpha=0.5, lw=2, label='Susceptibles')\n",
    "ax.plot(t, I/1000000, 'r', alpha=0.5, lw=2, label='Infectés')\n",
    "ax.plot(t, R/1000000, 'g', alpha=0.5, lw=2, label='Rétablis avec immunité')\n",
    "ax.set_xlabel('Jours')\n",
    "ax.set_ylabel('Personnes (en millions)')\n",
    "ax.set_ylim(0,1.2)\n",
    "ax.yaxis.set_tick_params(length=0)\n",
    "ax.xaxis.set_tick_params(length=0)\n",
    "ax.grid(b=True, which='major', c='w', lw=2, ls='-')\n",
    "legend = ax.legend()\n",
    "legend.get_frame().set_alpha(0.5)\n",
    "for spine in ('top', 'right', 'bottom', 'left'):\n",
    "    ax.spines[spine].set_visible(False)\n",
    "plt.show()"
   ]
  },
  {
   "cell_type": "markdown",
   "metadata": {},
   "source": [
    "Nous pouvons déduire plusieurs choses de ces trois équations différentielles.\n",
    "\n",
    "Premièrement, l'équation de dS/dt nous montre que quand I, le nombre d'inféctés, tend vers 0, la courbe représentative de S(t) se rapproche de l'horizontale car sa dérivée tend vers 0.\n",
    "\n",
    "Deuxièmement nous pouvons constater le même phénomène avec l'équation de dR/dt.\n",
    "\n",
    "Enfin, nous pouvons déduire deux conclusions grâce à l'équation dI/dt. Si dI/dt = 0, alors nous atteignons un pic d'infection. \n",
    "\n",
    "Ainsi,\n",
    "\n",
    "\\begin{align*}\n",
    "    \\frac{\\beta SI}{N}-\\gamma I &= 0 \\\\\n",
    "\\end{align*}\n",
    "\n",
    "Donc,\n",
    "\n",
    "\\begin{align*}\n",
    "    S &= \\frac{\\gamma N}{\\beta} \\\\\n",
    "\\end{align*}\n",
    "\n",
    "Or,\n",
    "\n",
    "\\begin{align*}\n",
    "    S &= N-I-R \\\\\n",
    "\\end{align*}\n",
    "\n",
    "Donc, \n",
    "\n",
    "\\begin{align*}\n",
    "    N-I-R &= \\frac{\\gamma N}{\\beta}\\\\\n",
    "\\end{align*}\n",
    "\n",
    "Donc, \n",
    "\n",
    "\\begin{align*}\n",
    "    N(1-\\frac{\\gamma}{\\beta}) &= I+R \\\\\n",
    "\\end{align*}\n",
    "\n",
    "Grâce à ce résultat nous pouvons connaître le nombre de personnes ayant été infectés (rétabli ou non) au pic d'infection. De plus, selon si γ/β est supérieir ou inférieur à un nous pouvons avoir une nouvelle information sur le virus. Si γ/β < 1, alors nous trouvons que la maladie n'infectera qu'une partie de la population. Cependant si γ/β ≥ 1, alors le I+R ≥ N, N étant la popultion totla"
   ]
  },
  {
   "cell_type": "markdown",
   "metadata": {},
   "source": [
    "Compliquons le modèle pour y ajouter l'élément du temps d'incubation."
   ]
  },
  {
   "cell_type": "code",
   "execution_count": 8,
   "metadata": {},
   "outputs": [],
   "source": [
    "E0, I0, R0 = 1, 0, 0\n",
    "S0 = N - E0 - I0 - R0\n",
    "sigma = 1./5"
   ]
  },
  {
   "cell_type": "markdown",
   "metadata": {},
   "source": [
    "Voici les équations différentielles qui vont nous permettre de faire la modélisation nommée SEIR.\n",
    "\n",
    "\\begin{align*}\n",
    "    \\frac{dS}{dt} &= -\\frac{\\beta SI}{N} \\\\\n",
    "    \\frac{dE}{dt} &= \\frac{\\beta SI}{N}-\\sigma E \\\\\n",
    "    \\frac{dI}{dt} &= \\sigma E - \\gamma I \\\\\n",
    "    \\frac{dR}{dt} &= \\gamma I \\\\\n",
    "\\end{align*}"
   ]
  },
  {
   "cell_type": "code",
   "execution_count": 9,
   "metadata": {},
   "outputs": [],
   "source": [
    "def derivSEIR(y, t, N, beta, gamma, sigma):\n",
    "    S, E, I, R = y\n",
    "    dSdt = -beta * S * I / N\n",
    "    dEdt = beta * S * I / N - sigma * E\n",
    "    dIdt = sigma * E - gamma * I\n",
    "    dRdt = gamma * I\n",
    "    return dSdt, dEdt, dIdt, dRdt"
   ]
  },
  {
   "cell_type": "code",
   "execution_count": 10,
   "metadata": {},
   "outputs": [],
   "source": [
    "y0 = S0, E0, I0, R0\n",
    "ret = odeint(derivSEIR, y0, t, args=(N, beta, gamma, sigma))\n",
    "S, E, I, R = ret.T"
   ]
  },
  {
   "cell_type": "code",
   "execution_count": 11,
   "metadata": {},
   "outputs": [
    {
     "data": {
      "image/png": "[encoded data removed]",
      "text/plain": [
       "<matplotlib.figure.Figure at 0x118c36588>"
      ]
     },
     "metadata": {},
     "output_type": "display_data"
    }
   ],
   "source": [
    "fig = plt.figure(facecolor='w')\n",
    "ax = fig.add_subplot(111, facecolor='#dddddd', axisbelow=True)\n",
    "ax.plot(t, S/1000000, 'b', alpha=0.5, lw=2, label='Susceptibles')\n",
    "ax.plot(t, E/1000000, 'y', alpha=0.5, lw=2, label='Exposés')\n",
    "ax.plot(t, I/1000000, 'r', alpha=0.5, lw=2, label='Infectés')\n",
    "ax.plot(t, R/1000000, 'g', alpha=0.5, lw=2, label='Rétablis avec immunité')\n",
    "ax.set_xlabel('Jours')\n",
    "ax.set_ylabel('Personnes (en millions)')\n",
    "ax.set_ylim(0,1.2)\n",
    "ax.yaxis.set_tick_params(length=0)\n",
    "ax.xaxis.set_tick_params(length=0)\n",
    "ax.grid(b=True, which='major', c='w', lw=2, ls='-')\n",
    "legend = ax.legend()\n",
    "legend.get_frame().set_alpha(0.5)\n",
    "for spine in ('top', 'right', 'bottom', 'left'):\n",
    "    ax.spines[spine].set_visible(False)\n",
    "plt.show()"
   ]
  }
 ],
 "metadata": {
  "kernelspec": {
   "display_name": "Python 3",
   "language": "python",
   "name": "python3"
  },
  "language_info": {
   "codemirror_mode": {
    "name": "ipython",
    "version": 3
   },
   "file_extension": ".py",
   "mimetype": "text/x-python",
   "name": "python",
   "nbconvert_exporter": "python",
   "pygments_lexer": "ipython3",
   "version": "3.6.4"
  }
 },
 "nbformat": 4,
 "nbformat_minor": 2
}
